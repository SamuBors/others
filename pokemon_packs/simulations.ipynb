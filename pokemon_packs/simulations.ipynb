{
 "cells": [
  {
   "cell_type": "markdown",
   "metadata": {},
   "source": [
    "libraries\n"
   ]
  },
  {
   "cell_type": "code",
   "execution_count": 1,
   "metadata": {},
   "outputs": [],
   "source": [
    "import numpy as np\n",
    "import matplotlib.pyplot as plt\n",
    "import pandas as pd"
   ]
  },
  {
   "cell_type": "markdown",
   "metadata": {},
   "source": [
    "functions"
   ]
  },
  {
   "cell_type": "code",
   "execution_count": null,
   "metadata": {},
   "outputs": [],
   "source": []
  },
  {
   "cell_type": "markdown",
   "metadata": {},
   "source": [
    "main"
   ]
  },
  {
   "cell_type": "code",
   "execution_count": 14,
   "metadata": {},
   "outputs": [
    {
     "name": "stdout",
     "output_type": "stream",
     "text": [
      "1D    1.0\n",
      "2D    0.0\n",
      "3D    0.0\n",
      "4D    0.0\n",
      "1S    0.0\n",
      "2S    0.0\n",
      "3S    0.0\n",
      "C     0.0\n",
      "dtype: float64\n",
      "1D    1.0\n",
      "2D    0.0\n",
      "3D    0.0\n",
      "4D    0.0\n",
      "1S    0.0\n",
      "2S    0.0\n",
      "3S    0.0\n",
      "C     0.0\n",
      "dtype: float64\n",
      "1D    1.0\n",
      "2D    0.0\n",
      "3D    0.0\n",
      "4D    0.0\n",
      "1S    0.0\n",
      "2S    0.0\n",
      "3S    0.0\n",
      "C     0.0\n",
      "dtype: float64\n",
      "1D    0.000000\n",
      "2D    0.900000\n",
      "3D    0.050000\n",
      "4D    0.016667\n",
      "1S    0.025711\n",
      "2S    0.005000\n",
      "3S    0.002222\n",
      "C     0.000400\n",
      "dtype: float64\n",
      "1D    0.000000\n",
      "2D    0.600000\n",
      "3D    0.200000\n",
      "4D    0.066667\n",
      "1S    0.102844\n",
      "2S    0.020000\n",
      "3S    0.008889\n",
      "C     0.001600\n",
      "dtype: float64\n"
     ]
    }
   ],
   "source": [
    "prob_n = [\n",
    "    [32,0.03125,0.03125,0.03125,0,0], #1D\n",
    "    [23,0,0,0,90/2300,60/2300], #2D\n",
    "    [8,0,0,0,0.00625,0.025], #3D\n",
    "    [5,0,0,0,1/300,4/300], #4D\n",
    "    [6,0,0,0,2314/540000,9256/540000], #1S\n",
    "    [10,0,0,0,0.0005,0.002], #2S\n",
    "    [1,0,0,0,2/900,8/900], #3S\n",
    "    [1,0,0,0,0.0004,0.0016] #C\n",
    "]\n",
    "\n",
    "prob_n = pd.DataFrame(prob_n, columns=['n',1,2,3,4,5], index=['1D', '2D', '3D', '4D', '1S', '2S', '3S', 'C'])\n",
    "\n",
    "check_prob_n = []\n",
    "for i in range(1,6):\n",
    "    print(prob_n['n']*prob_n[i])\n",
    "    check_prob_n.append(np.inner(prob_n['n'],prob_n[i]))\n",
    "\n",
    "prob_n = [\n",
    "    [32,0.03125,0.03125,0.03125,0,0], #1D\n",
    "    [23,0,0,0,90/2300,60/2300], #2D\n",
    "    [8,0,0,0,0.00625,0.025], #3D\n",
    "    [5,0,0,0,1/300,4/300], #4D\n",
    "    [6,0,0,0,2314/540000,9256/540000], #1S\n",
    "    [10,0,0,0,0.0005,0.002], #2S\n",
    "    [1,0,0,0,2/900,8/900], #3S\n",
    "    [1,0,0,0,0.0004,0.0016] #C\n",
    "]\n",
    "\n",
    "prob_n = pd.DataFrame(prob_n, columns=['n',1,2,3,4,5], index=['1D', '2D', '3D', '4D', '1S', '2S', '3S', 'C'])\n",
    "\n",
    "check_prob_n = []\n",
    "for i in range(1,6):\n",
    "    print(prob_n['n']*prob_n[i])\n",
    "    check_prob_n.append(np.inner(prob_n['n'],prob_n[i]))"
   ]
  }
 ],
 "metadata": {
  "kernelspec": {
   "display_name": "Python 3",
   "language": "python",
   "name": "python3"
  },
  "language_info": {
   "codemirror_mode": {
    "name": "ipython",
    "version": 3
   },
   "file_extension": ".py",
   "mimetype": "text/x-python",
   "name": "python",
   "nbconvert_exporter": "python",
   "pygments_lexer": "ipython3",
   "version": "3.12.0"
  }
 },
 "nbformat": 4,
 "nbformat_minor": 2
}
