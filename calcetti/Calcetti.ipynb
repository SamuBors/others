{
 "cells": [
  {
   "cell_type": "markdown",
   "metadata": {},
   "source": [
    "libraries"
   ]
  },
  {
   "cell_type": "code",
   "execution_count": 1,
   "metadata": {},
   "outputs": [],
   "source": [
    "import numpy as np\n",
    "import matplotlib.pyplot as plt\n",
    "from matplotlib.backends.backend_pdf import PdfPages\n",
    "import pandas as pd\n",
    "from datetime import datetime"
   ]
  },
  {
   "cell_type": "markdown",
   "metadata": {},
   "source": [
    "groups (uni, gruppo) & dataset loading"
   ]
  },
  {
   "cell_type": "code",
   "execution_count": 3,
   "metadata": {},
   "outputs": [],
   "source": [
    "group = 'gruppo'\n",
    "df = pd.read_csv('calcetti_' + group + '.csv')"
   ]
  },
  {
   "cell_type": "markdown",
   "metadata": {},
   "source": [
    "inputs"
   ]
  },
  {
   "cell_type": "code",
   "execution_count": 9,
   "metadata": {},
   "outputs": [],
   "source": [
    "game_date=datetime(2024,9,13)\n",
    "game_id=25\n",
    "game_location=\"Fair Play\"\n",
    "#game_type='5v5'\n",
    "\n",
    "data = {\n",
    "    'NAMES' : ['Poli','Turco','Samu','Kevin','Rich','Agostinelli','Mala','Magic','Fox','Pale'],\n",
    "    'TEAMS' : [1,1,1,1,1,2,2,2,2,2],\n",
    "    'GOALS' : [1,0,0,1,3,0,5,0,4,3],\n",
    "    'OWN GOALS' : [0,0,0,0,0,0,0,1,0,0],\n",
    "    #'ASSISTS' : [0,2,1,0,0,0,0,4,0,4]\n",
    "}\n",
    "\n",
    "data=pd.DataFrame(data)"
   ]
  },
  {
   "cell_type": "markdown",
   "metadata": {},
   "source": [
    "automatic stuff"
   ]
  },
  {
   "cell_type": "code",
   "execution_count": 10,
   "metadata": {},
   "outputs": [],
   "source": [
    "team_1_goals=data['GOALS'][data['TEAMS']==1].sum()+data['OWN GOALS'][data['TEAMS']==2].sum()\n",
    "team_2_goals=data['GOALS'][data['TEAMS']==2].sum()+data['OWN GOALS'][data['TEAMS']==1].sum()\n",
    "\n",
    "#game identification\n",
    "data['DATE']=game_date\n",
    "data['GAME ID']=game_id\n",
    "data['LOCATION']=game_location\n",
    "#data['GAME TYPE']=game_type\n",
    "\n",
    "#goals and results \n",
    "data.loc[data['TEAMS'] == 1, 'TEAM GOALS SCORED']=team_1_goals\n",
    "data.loc[data['TEAMS'] == 2, 'TEAM GOALS SCORED']=team_2_goals\n",
    "data.loc[data['TEAMS'] == 1, 'TEAM GOALS CONCEEDED']=team_2_goals\n",
    "data.loc[data['TEAMS'] == 2, 'TEAM GOALS CONCEEDED']=team_1_goals\n",
    "data['GOALS DIFFERENCE']=data['TEAM GOALS SCORED']-data['TEAM GOALS CONCEEDED']\n",
    "data.loc[data['TEAM GOALS SCORED']>data['TEAM GOALS CONCEEDED'],'W/D/L']='W'\n",
    "data.loc[data['TEAM GOALS SCORED']<data['TEAM GOALS CONCEEDED'],'W/D/L']='L'\n",
    "data.loc[data['TEAM GOALS SCORED']==data['TEAM GOALS CONCEEDED'],'W/D/L']='D'"
   ]
  },
  {
   "cell_type": "markdown",
   "metadata": {},
   "source": [
    "appending the new data and storing the new dataset"
   ]
  },
  {
   "cell_type": "code",
   "execution_count": 11,
   "metadata": {},
   "outputs": [],
   "source": [
    "check=df[df['GAME ID']==game_id]\n",
    "if check.empty:\n",
    "    df=pd.concat([df, data], ignore_index=True)\n",
    "    df=df.sort_values(by=['GAME ID','TEAMS'])\n",
    "    df.to_csv('calcetti_' + group + '.csv', index=False)\n",
    "else:\n",
    "    print('Game ' + f'{game_id} is already in the whole dataset!')"
   ]
  },
  {
   "cell_type": "markdown",
   "metadata": {},
   "source": [
    "updating the data frame and the pdf of top scorers"
   ]
  },
  {
   "cell_type": "code",
   "execution_count": 12,
   "metadata": {},
   "outputs": [
    {
     "data": {
      "image/png": "[encoded data removed]",
      "text/plain": [
       "<Figure size 300x275 with 1 Axes>"
      ]
     },
     "metadata": {},
     "output_type": "display_data"
    }
   ],
   "source": [
    "# updating the df of the top scorers\n",
    "year=pd.to_datetime(df[df['GAME ID']==df['GAME ID'].max()]['DATE'].values[0]).year\n",
    "df_ay=df[(pd.to_datetime(df['DATE'])>datetime(year-1,12,31)) & (pd.to_datetime(df['DATE'])<datetime(year+1,1,1))]\n",
    "\n",
    "grouped = df_ay.groupby('NAMES')\n",
    "ts=pd.DataFrame()\n",
    "ts['GOALS']=grouped['GOALS'].sum()\n",
    "ts['#']=1\n",
    "ts['GAMES'] = grouped['NAMES'].count()\n",
    "ts['GPG'] = ts['GOALS']/ts['GAMES']\n",
    "#ts=ts.drop('GAMES', axis=1)\n",
    "ts=ts.sort_values(by=['GOALS','GPG'], ascending=[False,False])\n",
    "\n",
    "i=1\n",
    "j=i\n",
    "g=ts['GOALS'].max()\n",
    "for name in ts.index:\n",
    "    if ts['GOALS'][name] != g:\n",
    "        j=i\n",
    "    g = ts['GOALS'][name]\n",
    "    ts.loc[ts.index==name,'#'] = j\n",
    "    i+=1\n",
    "\n",
    "ts=ts.reset_index()\n",
    "ts['GPG']=ts['GPG'].round(1)\n",
    "ts=ts[['#','NAMES','GOALS','GPG','GAMES']]\n",
    "ts=ts[ts['GOALS']!=0]\n",
    "ts=ts[ts.index<10]\n",
    "\n",
    "# updating the pdf of the top scorers\n",
    "fig, ax = plt.subplots(figsize=(3,2.75))\n",
    "ax.axis('tight')\n",
    "ax.axis('off')\n",
    "ax.set_title(f'TOP SCORERS {year}')\n",
    "\n",
    "tab = ax.table(cellText=ts.values, colLabels=ts.columns, loc='center', cellLoc='center')\n",
    "\n",
    "tab.auto_set_column_width(col=list(range(len(ts.columns))))\n",
    "\n",
    "pdf_pages = PdfPages('top_scorers_' + group + '.pdf')\n",
    "pdf_pages.savefig(fig, bbox_inches='tight')\n",
    "pdf_pages.close()\n"
   ]
  },
  {
   "cell_type": "markdown",
   "metadata": {},
   "source": [
    "stats"
   ]
  },
  {
   "cell_type": "code",
   "execution_count": 7,
   "metadata": {},
   "outputs": [
    {
     "name": "stdout",
     "output_type": "stream",
     "text": [
      "           WP  GAMES\n",
      "NAMES               \n",
      "Damiano  1.00      4\n",
      "Rich     0.67      9\n",
      "Magic    0.57     14\n",
      "Pale     0.56     18\n",
      "Romi     0.55     11\n",
      "Kevin    0.53     17\n",
      "Liam     0.50      8\n",
      "Pistons  0.50      6\n",
      "Andri    0.50      4\n",
      "Manu     0.50      4\n",
      "Samu     0.39     18\n",
      "Fox      0.38     16\n",
      "Tommi    0.29      7\n",
      "Lausdi   0.25      4\n"
     ]
    }
   ],
   "source": [
    "# winning percentage\n",
    "wins = pd.DataFrame()\n",
    "wins['NAMES']=df_ay['NAMES'].copy()\n",
    "wins['WINS']=0\n",
    "wins.loc[df_ay['W/D/L']=='W','WINS']=1\n",
    "wins.loc[df_ay['TEAMS']==3,'WINS']=np.nan\n",
    "wins.drop(wins[wins['WINS'].isna()].index,inplace=True)\n",
    "wins.reset_index(inplace=True,drop=True)\n",
    "grouped = wins.groupby('NAMES')\n",
    "wp=pd.DataFrame()\n",
    "wp['W']=grouped['WINS'].sum()\n",
    "wp['GAMES'] = grouped['NAMES'].count()\n",
    "wp['WP'] = wp['W']/wp['GAMES']\n",
    "wp['WP'] = wp['WP'].round(2)\n",
    "wp=wp.sort_values(by=['WP'],ascending=[False])\n",
    "wp=wp.drop('W',axis=1)\n",
    "wp=wp[wp['GAMES']>=4]\n",
    "wp=wp[['WP','GAMES']]\n",
    "wp=wp.sort_values(by=['WP','GAMES'],ascending=[False,False])\n",
    "\n",
    "print(wp)\n",
    "\n",
    "# some stats\n",
    "stats_pg = pd.DataFrame()\n",
    "stats = pd.DataFrame()\n",
    "grouped = df_ay.groupby('NAMES')\n",
    "stats_pg['GAMES']=grouped['NAMES'].count()\n",
    "stats['GAMES']=grouped['NAMES'].count()\n",
    "stats_pg['GOALS']=grouped['GOALS'].sum()/stats['GAMES']\n",
    "stats['GOALS']=grouped['GOALS'].sum()\n",
    "stats_pg['PERCENTAGE GOALS']=grouped['GOALS'].sum()/grouped['TEAM GOALS SCORED'].sum()\n",
    "stats_pg['TEAM GOALS SCORED']=grouped['TEAM GOALS SCORED'].sum()/stats['GAMES']\n",
    "stats['TEAM GOALS SCORED']=grouped['TEAM GOALS SCORED'].sum()\n",
    "stats_pg['TEAM GOALS CONCEEDED']=grouped['TEAM GOALS CONCEEDED'].sum()/stats['GAMES']\n",
    "stats['TEAM GOALS CONCEEDED']=grouped['TEAM GOALS CONCEEDED'].sum()\n",
    "\n",
    "stats_pg=stats_pg[stats_pg['GAMES']>=4]\n",
    "stats=stats[stats['GAMES']>=4]\n",
    "stats_pg['WINNING PERCENTAGE']=wp['WP']\n",
    "\n",
    "# mates matrix\n",
    "MM=pd.DataFrame(index=df['NAMES'].unique(), columns=df['NAMES'].unique())\n",
    "MM=MM.fillna(0)\n",
    "for id in df['GAME ID'].unique():\n",
    "    a=df[df['GAME ID']==id]\n",
    "    for name1 in a['NAMES'].unique():\n",
    "        for name2 in a['NAMES'].unique():\n",
    "            if a.loc[a['NAMES']==name1, 'TEAMS'].values[0]==a.loc[a['NAMES']==name2, 'TEAMS'].values[0]:\n",
    "                MM[name1].loc[name2]=MM[name1].loc[name2]+1"
   ]
  }
 ],
 "metadata": {
  "kernelspec": {
   "display_name": "Python 3",
   "language": "python",
   "name": "python3"
  },
  "language_info": {
   "codemirror_mode": {
    "name": "ipython",
    "version": 3
   },
   "file_extension": ".py",
   "mimetype": "text/x-python",
   "name": "python",
   "nbconvert_exporter": "python",
   "pygments_lexer": "ipython3",
   "version": "3.12.0"
  }
 },
 "nbformat": 4,
 "nbformat_minor": 2
}
